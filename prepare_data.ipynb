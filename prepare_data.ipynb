{
 "cells": [
  {
   "cell_type": "code",
   "execution_count": 1,
   "metadata": {},
   "outputs": [
    {
     "name": "stdout",
     "output_type": "stream",
     "text": [
      "final_data.pkl\tproblems.txt  Untitled.ipynb  users.txt\r\n"
     ]
    }
   ],
   "source": [
    "!ls"
   ]
  },
  {
   "cell_type": "code",
   "execution_count": 2,
   "metadata": {
    "collapsed": true
   },
   "outputs": [],
   "source": [
    "import numpy as np\n",
    "import pickle\n",
    "import pandas as pd\n",
    "import json\n",
    "import os\n",
    "import copy\n",
    "import gc\n",
    "import math\n",
    "import scipy.sparse as sp"
   ]
  },
  {
   "cell_type": "code",
   "execution_count": 3,
   "metadata": {
    "collapsed": true
   },
   "outputs": [],
   "source": [
    "f = open(\"final_data.pkl\",\"rb\")"
   ]
  },
  {
   "cell_type": "code",
   "execution_count": 4,
   "metadata": {
    "collapsed": true
   },
   "outputs": [],
   "source": [
    "allData = pickle.load(f)"
   ]
  },
  {
   "cell_type": "code",
   "execution_count": 5,
   "metadata": {
    "collapsed": true
   },
   "outputs": [],
   "source": [
    "f.close()"
   ]
  },
  {
   "cell_type": "code",
   "execution_count": 6,
   "metadata": {},
   "outputs": [
    {
     "name": "stdout",
     "output_type": "stream",
     "text": [
      "146976\n"
     ]
    }
   ],
   "source": [
    "print(len(allData))"
   ]
  },
  {
   "cell_type": "code",
   "execution_count": 7,
   "metadata": {},
   "outputs": [
    {
     "name": "stdout",
     "output_type": "stream",
     "text": [
      "2\n"
     ]
    }
   ],
   "source": [
    "print(len(allData[0]))"
   ]
  },
  {
   "cell_type": "code",
   "execution_count": 8,
   "metadata": {},
   "outputs": [
    {
     "name": "stdout",
     "output_type": "stream",
     "text": [
      "1765\n"
     ]
    }
   ],
   "source": [
    "print(len(allData[0][1]))"
   ]
  },
  {
   "cell_type": "code",
   "execution_count": 9,
   "metadata": {},
   "outputs": [
    {
     "name": "stdout",
     "output_type": "stream",
     "text": [
      "7\n"
     ]
    }
   ],
   "source": [
    "print(len(allData[0][0]))"
   ]
  },
  {
   "cell_type": "code",
   "execution_count": 10,
   "metadata": {},
   "outputs": [
    {
     "name": "stdout",
     "output_type": "stream",
     "text": [
      "tourist\n"
     ]
    }
   ],
   "source": [
    "print(allData[0][0])"
   ]
  },
  {
   "cell_type": "code",
   "execution_count": 11,
   "metadata": {},
   "outputs": [
    {
     "name": "stdout",
     "output_type": "stream",
     "text": [
      "{'id': 42104799, 'creationTimeSeconds': 1535237032, 'verdict': 'WRONG_ANSWER', 'passedTestCount': 0, 'problem': {'contestId': 986, 'index': 'D'}}\n"
     ]
    }
   ],
   "source": [
    "print(allData[0][1][1])"
   ]
  },
  {
   "cell_type": "code",
   "execution_count": 12,
   "metadata": {},
   "outputs": [
    {
     "name": "stdout",
     "output_type": "stream",
     "text": [
      "<class 'dict'>\n",
      "<class 'list'>\n",
      "{'lastName': 'Korotkevich', 'country': 'Belarus', 'lastOnlineTimeSeconds': 1535792604, 'city': 'Gomel', 'rating': 3434, 'friendOfCount': 14191, 'titlePhoto': '//userpic.codeforces.com/422/title/6dd5ba0df6a2f834.jpg', 'handle': 'tourist', 'avatar': '//userpic.codeforces.com/422/avatar/1d4e692d6695dfa6.jpg', 'firstName': 'Gennady', 'contribution': 158, 'organization': 'ITMO University', 'rank': 'legendary grandmaster', 'maxRating': 3739, 'registrationTimeSeconds': 1265987288, 'maxRank': 'legendary grandmaster'}\n"
     ]
    }
   ],
   "source": [
    "users = json.load(open(\"users.txt\", \"r\"))\n",
    "print(type(users))\n",
    "users = users['result']\n",
    "print(type(users))\n",
    "print((users[0]))"
   ]
  },
  {
   "cell_type": "code",
   "execution_count": 13,
   "metadata": {},
   "outputs": [
    {
     "name": "stdout",
     "output_type": "stream",
     "text": [
      "146976\n"
     ]
    }
   ],
   "source": [
    "# maps the user_handle to user_id\n",
    "user_id = {}\n",
    "# gives the user_handle corresponding to the user_id\n",
    "user_handle = []\n",
    "for i in range(len(users)):\n",
    "    user_id[users[i]['handle']] = i\n",
    "    user_handle.append(users[i]['handle'])\n",
    "\n",
    "print(len(user_handle))"
   ]
  },
  {
   "cell_type": "code",
   "execution_count": 14,
   "metadata": {},
   "outputs": [
    {
     "name": "stdout",
     "output_type": "stream",
     "text": [
      "4433\n",
      "{'contestId': 1029, 'index': 'F', 'name': 'Multicolored Markers', 'type': 'PROGRAMMING', 'tags': ['binary search', 'math', 'number theory']}\n"
     ]
    }
   ],
   "source": [
    "problems = json.load(open('problems.txt', 'r'))\n",
    "problems = problems['result']\n",
    "problems = problems['problems']\n",
    "print(len(problems))\n",
    "print(problems[0])"
   ]
  },
  {
   "cell_type": "code",
   "execution_count": 15,
   "metadata": {
    "collapsed": true
   },
   "outputs": [],
   "source": [
    "# maps the contest_id+index to id\n",
    "with open('problem_mappings.pkl','rb') as f:\n",
    "    problem_id = pickle.load(f)\n",
    "  \n",
    "# gives the contest_id+index corresponding to the problem_id\n",
    "problem_name = []\n",
    "l = len(problems)\n",
    "for i in range(len(problems)-1, 0, -1):\n",
    "    problem_name.append(str(problems[i]['contestId']) + problems[i]['index'])\n",
    "\n",
    "# mappings is used to get the contestIds for the problems not there in problems.txt\n",
    "# this happens in case of various div2 questions which are also there in div1\n",
    "with open('plsss.pkl','rb') as f:\n",
    "    mappings = pickle.load(f)"
   ]
  },
  {
   "cell_type": "code",
   "execution_count": 16,
   "metadata": {
    "collapsed": true
   },
   "outputs": [],
   "source": [
    "def get_problem_id(cid, idx):\n",
    "    if str(cid)+idx in problem_id:\n",
    "        return problem_id[str(cid)+idx]\n",
    "    if cid>len(mappings) or len(idx)>1:\n",
    "        return -1\n",
    "    if mappings[cid] !=  0:\n",
    "        #print(str(cid)+idx)\n",
    "        idx = chr(int(ord(idx) - mappings[cid][1]))\n",
    "        cid = cid + mappings[cid][0]\n",
    "        #print('haha'+str(cid)+idx)\n",
    "        if str(cid) + idx in problem_id:\n",
    "            return problem_id[str(cid)+idx]\n",
    "    return -1"
   ]
  },
  {
   "cell_type": "code",
   "execution_count": 17,
   "metadata": {
    "collapsed": true
   },
   "outputs": [],
   "source": [
    "problem_AC = np.zeros(len(problems))\n",
    "problem_attempted = np.zeros(len(problems))\n",
    "user_AC = np.zeros(147000)\n",
    "user_attempted = np.zeros(147000)\n",
    "# change this dtype\n",
    "mean_user_rating = np.zeros(len(problems), dtype=np.int64)"
   ]
  },
  {
   "cell_type": "code",
   "execution_count": 19,
   "metadata": {
    "collapsed": true
   },
   "outputs": [],
   "source": [
    "# initialise to min and max\n",
    "# dict params: last_sub, first_sub, time_delta, first_AC_sub, user_problem_AC, user_problem_attempted\n",
    "dt = np.dtype({'names':('last_sub', 'first_sub','first_AC_sub','user_problem_AC','user_problem_attempted'),\n",
    "                          'formats':(np.int64, np.int64,np.int64,np.int32,np.int32)})\n",
    "user_prob_matrix = sp.dok_matrix((147000,len(problems)),dtype=dt)\n",
    "init_data = np.array([(-1,20000000000,20000000000,0,0)],dtype=dt)"
   ]
  },
  {
   "cell_type": "code",
   "execution_count": 20,
   "metadata": {},
   "outputs": [
    {
     "name": "stderr",
     "output_type": "stream",
     "text": [
      "/home/ubuntu/anaconda3/envs/python3/lib/python3.6/site-packages/scipy/sparse/dok.py:265: FutureWarning: elementwise != comparison failed and returning scalar instead; this will raise an error or perform elementwise comparison in the future.\n",
      "  if v.ndim == 0 and v != 0:\n",
      "/home/ubuntu/anaconda3/envs/python3/lib/python3.6/site-packages/ipykernel/__main__.py:11: FutureWarning: elementwise == comparison failed and returning scalar instead; this will raise an error or perform elementwise comparison in the future.\n"
     ]
    }
   ],
   "source": [
    "for u in range(len(allData)):\n",
    "    uu = user_id[allData[u][0]]\n",
    "    rating = users[uu]['rating']\n",
    "    for s in range(len(allData[u][1])):\n",
    "        user_submission = allData[u][1][s]\n",
    "        if 'contestId' not in user_submission['problem'] or 'verdict' not in user_submission:\n",
    "            continue\n",
    "        pid = get_problem_id(user_submission['problem']['contestId'],user_submission['problem']['index'])\n",
    "        if pid == -1:\n",
    "            continue\n",
    "        if(user_prob_matrix.get((uu,pid))==0.0):\n",
    "            user_prob_matrix[uu,pid] = init_data[0]\n",
    "        creationTimeSeconds = user_submission['creationTimeSeconds']\n",
    "        user_prob_matrix[uu,pid]['last_sub'] = max(user_prob_matrix[uu,pid]['last_sub'], creationTimeSeconds)\n",
    "        user_prob_matrix[uu,pid]['first_sub'] = min(user_prob_matrix[uu,pid]['first_sub'], creationTimeSeconds)\n",
    "        verdict = user_submission['verdict']\n",
    "        passedTestCount = user_submission['passedTestCount']\n",
    "        contestId = user_submission['problem']['contestId']\n",
    "        if verdict == 'OK':\n",
    "            user_prob_matrix[uu,pid]['first_AC_sub'] = min(user_prob_matrix[uu,pid]['first_AC_sub'], creationTimeSeconds)\n",
    "            user_prob_matrix[uu,pid]['user_problem_AC'] += 1\n",
    "            user_AC[uu] += 1\n",
    "            mean_user_rating[pid] = (mean_user_rating[pid]*problem_AC[pid] + rating)/(problem_AC[pid]+1)\n",
    "            problem_AC[pid] += 1\n",
    "        if passedTestCount > 0:\n",
    "            user_prob_matrix[uu,pid]['user_problem_attempted'] += 1\n",
    "            user_attempted[uu] += 1\n",
    "            problem_attempted[pid] += 1\n",
    "            \n"
   ]
  },
  {
   "cell_type": "code",
   "execution_count": 21,
   "metadata": {},
   "outputs": [
    {
     "name": "stdout",
     "output_type": "stream",
     "text": [
      "10632431.0\n",
      "10632431.0\n"
     ]
    }
   ],
   "source": [
    "ans1 = 0\n",
    "ans2 = 0\n",
    "for i in range(146976):\n",
    "  ans1 += user_AC[i]\n",
    "  \n",
    "for i in range(len(problems)):\n",
    "  ans2 += problem_AC[i]\n",
    "  \n",
    "print(ans1)\n",
    "print(ans2)"
   ]
  },
  {
   "cell_type": "code",
   "execution_count": 26,
   "metadata": {},
   "outputs": [
    {
     "name": "stdout",
     "output_type": "stream",
     "text": [
      "[ 775 1134  986 1136 1195 1317 1820 1259 1795 1294 2070 1988  947 1042\n",
      " 1277 1867 2060 2035 2025  922 1096 1017 1073 1682 1775 1877 1102 1317\n",
      " 1981 1969 1951  999 1063 1162 1179 1986 2141 2024  829 1696 1726  681\n",
      " 1650 1670 1925 1238 1750 1743 2048 2026  972 1621 1001 1163 1050 1520\n",
      " 1972 1135 1153 1836 2113 1991  818 1033 1936 1997 2061 2014 2073 2053\n",
      " 2159 2257 2112 2005 1730 1903 1994 1769 1727 1729 1690 1863 1615  666\n",
      " 1467 1459 1024 1300 1846 1949 1922 2150 2117 2067 2038 1956 1417 1489\n",
      " 1446 2098]\n"
     ]
    }
   ],
   "source": [
    "print(mean_user_rating[900:1000])"
   ]
  },
  {
   "cell_type": "code",
   "execution_count": 27,
   "metadata": {
    "collapsed": true
   },
   "outputs": [],
   "source": [
    "user_prob_matrix_coo = user_prob_matrix.tocoo()"
   ]
  },
  {
   "cell_type": "code",
   "execution_count": 32,
   "metadata": {},
   "outputs": [
    {
     "name": "stdout",
     "output_type": "stream",
     "text": [
      "4433\n"
     ]
    }
   ],
   "source": [
    "print(user_prob_matrix_coo.shape[1])"
   ]
  },
  {
   "cell_type": "code",
   "execution_count": 33,
   "metadata": {
    "collapsed": true
   },
   "outputs": [],
   "source": [
    "sp.save_npz('user_prob_matrix_coo.npz',user_prob_matrix_coo)"
   ]
  },
  {
   "cell_type": "code",
   "execution_count": 34,
   "metadata": {
    "collapsed": true
   },
   "outputs": [],
   "source": [
    "np.save('problem_AC.npy',problem_AC)\n",
    "np.save('problem_attempted.npy',problem_attempted)\n",
    "np.save('user_AC.npy',user_AC)\n",
    "np.save('user_attempted.npy',user_attempted)\n",
    "np.save('mean_user_rating.npy',mean_user_rating)"
   ]
  },
  {
   "cell_type": "code",
   "execution_count": 37,
   "metadata": {
    "collapsed": true
   },
   "outputs": [],
   "source": [
    "with open('problem_name.pkl','wb') as f:\n",
    "    pickle.dump(problem_name,f,protocol=pickle.HIGHEST_PROTOCOL)\n",
    "# with open('filename.pickle', 'wb') as handle:\n",
    "#     pickle.dump(a, handle, protocol=pickle.HIGHEST_PROTOCOL)"
   ]
  },
  {
   "cell_type": "code",
   "execution_count": 38,
   "metadata": {
    "collapsed": true
   },
   "outputs": [],
   "source": [
    "with open('user_id.pkl','wb') as f:\n",
    "    pickle.dump(user_id,f,protocol=pickle.HIGHEST_PROTOCOL)"
   ]
  },
  {
   "cell_type": "code",
   "execution_count": 39,
   "metadata": {
    "collapsed": true
   },
   "outputs": [],
   "source": [
    "with open('user_handle.pkl','wb') as f:\n",
    "    pickle.dump(user_handle,f,protocol=pickle.HIGHEST_PROTOCOL)"
   ]
  },
  {
   "cell_type": "code",
   "execution_count": null,
   "metadata": {
    "collapsed": true
   },
   "outputs": [],
   "source": []
  }
 ],
 "metadata": {
  "kernelspec": {
   "display_name": "Python 3",
   "language": "python",
   "name": "python3"
  },
  "language_info": {
   "codemirror_mode": {
    "name": "ipython",
    "version": 3
   },
   "file_extension": ".py",
   "mimetype": "text/x-python",
   "name": "python",
   "nbconvert_exporter": "python",
   "pygments_lexer": "ipython3",
   "version": "3.5.2"
  }
 },
 "nbformat": 4,
 "nbformat_minor": 2
}
