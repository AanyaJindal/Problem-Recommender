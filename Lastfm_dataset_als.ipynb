{
  "nbformat": 4,
  "nbformat_minor": 0,
  "metadata": {
    "colab": {
      "name": "Lastfm dataset - implicit",
      "version": "0.3.2",
      "provenance": [],
      "include_colab_link": true
    },
    "kernelspec": {
      "name": "python3",
      "display_name": "Python 3"
    },
    "accelerator": "GPU"
  },
  "cells": [
    {
      "cell_type": "markdown",
      "metadata": {
        "id": "view-in-github",
        "colab_type": "text"
      },
      "source": [
        "[View in Colaboratory](https://colab.research.google.com/github/AanyaJindal/Problem-Recommender/blob/master/Lastfm_dataset_als.ipynb)"
      ]
    },
    {
      "metadata": {
        "id": "DcwKG34a4NQX",
        "colab_type": "text"
      },
      "cell_type": "markdown",
      "source": [
        "**Notebook to implement MF - ALS by using the cython library ([here](https://github.com/benfred/implicit)) on the last-fm-360K dataset**"
      ]
    },
    {
      "metadata": {
        "id": "sTPAKZoTz1WX",
        "colab_type": "code",
        "colab": {
          "base_uri": "https://localhost:8080/",
          "height": 51
        },
        "outputId": "8e01a3e3-92ad-4daf-c6e2-25246adb3088"
      },
      "cell_type": "code",
      "source": [
        "!wget http://mtg.upf.edu/static/datasets/last.fm/lastfm-dataset-360K.tar.gz"
      ],
      "execution_count": 1,
      "outputs": [
        {
          "output_type": "stream",
          "text": [
            "\n",
            "Redirecting output to ‘wget-log’.\n"
          ],
          "name": "stdout"
        }
      ]
    },
    {
      "metadata": {
        "id": "QGoYGuLUz8rr",
        "colab_type": "code",
        "colab": {
          "base_uri": "https://localhost:8080/",
          "height": 34
        },
        "outputId": "6802f0cb-426b-404b-f01e-6575a698ed2e"
      },
      "cell_type": "code",
      "source": [
        "!ls"
      ],
      "execution_count": 2,
      "outputs": [
        {
          "output_type": "stream",
          "text": [
            "lastfm-dataset-360K.tar.gz  sample_data  wget-log\n"
          ],
          "name": "stdout"
        }
      ]
    },
    {
      "metadata": {
        "id": "1WySXNdO2FdV",
        "colab_type": "code",
        "colab": {
          "base_uri": "https://localhost:8080/",
          "height": 102
        },
        "outputId": "73ec1419-5147-48a9-d274-75ddc406085e"
      },
      "cell_type": "code",
      "source": [
        "!tar -xvzf lastfm-dataset-360K.tar.gz"
      ],
      "execution_count": 3,
      "outputs": [
        {
          "output_type": "stream",
          "text": [
            "lastfm-dataset-360K/\n",
            "lastfm-dataset-360K/usersha1-artmbid-artname-plays.tsv\n",
            "lastfm-dataset-360K/README.txt\n",
            "lastfm-dataset-360K/mbox_sha1sum.py\n",
            "lastfm-dataset-360K/usersha1-profile.tsv\n"
          ],
          "name": "stdout"
        }
      ]
    },
    {
      "metadata": {
        "id": "jPYhrHT12KM6",
        "colab_type": "code",
        "colab": {
          "base_uri": "https://localhost:8080/",
          "height": 34
        },
        "outputId": "cb99d364-4685-4533-ad58-44ef3796e0ca"
      },
      "cell_type": "code",
      "source": [
        "!ls"
      ],
      "execution_count": 4,
      "outputs": [
        {
          "output_type": "stream",
          "text": [
            "lastfm-dataset-360K  lastfm-dataset-360K.tar.gz  sample_data  wget-log\n"
          ],
          "name": "stdout"
        }
      ]
    },
    {
      "metadata": {
        "id": "b4KCDYg52S-h",
        "colab_type": "code",
        "colab": {
          "base_uri": "https://localhost:8080/",
          "height": 275
        },
        "outputId": "165399c2-9dbb-4bd7-d38e-45858f0bd4fe"
      },
      "cell_type": "code",
      "source": [
        "!pip install implicit"
      ],
      "execution_count": 8,
      "outputs": [
        {
          "output_type": "stream",
          "text": [
            "Collecting implicit\n",
            "\u001b[?25l  Downloading https://files.pythonhosted.org/packages/d9/0c/7f9f065cceab3c27b7207bbbc3127ff698f1dbaabc2e5f5ef92cb3a39a43/implicit-0.3.6.tar.gz (766kB)\n",
            "\u001b[K    100% |████████████████████████████████| 768kB 6.7MB/s \n",
            "\u001b[?25hRequirement already satisfied: numpy in /usr/local/lib/python3.6/dist-packages (from implicit) (1.14.5)\n",
            "Requirement already satisfied: scipy>=0.16 in /usr/local/lib/python3.6/dist-packages (from implicit) (0.19.1)\n",
            "Requirement already satisfied: h5py in /usr/local/lib/python3.6/dist-packages (from implicit) (2.8.0)\n",
            "Requirement already satisfied: tqdm in /usr/local/lib/python3.6/dist-packages (from implicit) (4.26.0)\n",
            "Requirement already satisfied: six in /usr/local/lib/python3.6/dist-packages (from h5py->implicit) (1.11.0)\n",
            "Building wheels for collected packages: implicit\n",
            "  Running setup.py bdist_wheel for implicit ... \u001b[?25l-\b \b\\\b \b|\b \b/\b \b-\b \b\\\b \b|\b \b/\b \b-\b \b\\\b \b|\b \b/\b \b-\b \bdone\n",
            "\u001b[?25h  Stored in directory: /root/.cache/pip/wheels/6c/3d/30/d09ce4a97747d950f06bebbf644590915788b0e8d406795c6f\n",
            "Successfully built implicit\n",
            "Installing collected packages: implicit\n",
            "Successfully installed implicit-0.3.6\n"
          ],
          "name": "stdout"
        }
      ]
    },
    {
      "metadata": {
        "id": "Hl-BpoF4D9Im",
        "colab_type": "text"
      },
      "cell_type": "markdown",
      "source": [
        "import all required libraries"
      ]
    },
    {
      "metadata": {
        "id": "9yl6RERA2u_M",
        "colab_type": "code",
        "colab": {}
      },
      "cell_type": "code",
      "source": [
        "import sys\n",
        "import pandas as pd\n",
        "import numpy as np\n",
        "import scipy.sparse as sparse\n",
        "from scipy.sparse.linalg import spsolve\n",
        "import random\n",
        "\n",
        "from sklearn.preprocessing import MinMaxScaler\n",
        "\n",
        "import implicit"
      ],
      "execution_count": 0,
      "outputs": []
    },
    {
      "metadata": {
        "id": "gFy177vDDwjm",
        "colab_type": "text"
      },
      "cell_type": "markdown",
      "source": [
        "Load the dataset"
      ]
    },
    {
      "metadata": {
        "id": "nt2DcGcm-n1d",
        "colab_type": "code",
        "colab": {}
      },
      "cell_type": "code",
      "source": [
        "# Load the data like we did before\n",
        "raw_data = pd.read_table('lastfm-dataset-360K/usersha1-artmbid-artname-plays.tsv')\n",
        "raw_data = raw_data.drop(raw_data.columns[1], axis=1)\n",
        "raw_data.columns = ['user', 'artist', 'plays']\n",
        "# Drop NaN columns\n",
        "data = raw_data.dropna()\n",
        "data = data.copy()\n",
        "\n",
        "# Create a numeric user_id and artist_id column\n",
        "data['user'] = data['user'].astype(\"category\")\n",
        "data['artist'] = data['artist'].astype(\"category\")\n",
        "data['user_id'] = data['user'].cat.codes\n",
        "data['artist_id'] = data['artist'].cat.codes\n"
      ],
      "execution_count": 0,
      "outputs": []
    },
    {
      "metadata": {
        "id": "MAjCfqfxDYI6",
        "colab_type": "text"
      },
      "cell_type": "markdown",
      "source": [
        "**Training with first 500k rows only to test out**\n"
      ]
    },
    {
      "metadata": {
        "id": "1FeSQfcIDq7V",
        "colab_type": "code",
        "colab": {}
      },
      "cell_type": "code",
      "source": [
        "\n",
        "# The implicit library expects data as a item-user matrix so we\n",
        "# create two matricies, one for fitting the model (item-user) \n",
        "# and one for recommendations (user-item) -- weeding out already heard artists\n",
        "sparse_item_user = sparse.csr_matrix((data['plays'][1:500000].astype(float), (data['artist_id'][1:500000], data['user_id'][1:500000])))\n",
        "sparse_user_item = sparse.csr_matrix((data['plays'][1:500000].astype(float), (data['user_id'][1:500000], data['artist_id'][1:500000])))"
      ],
      "execution_count": 0,
      "outputs": []
    },
    {
      "metadata": {
        "id": "lSyMQwI9D2wF",
        "colab_type": "text"
      },
      "cell_type": "markdown",
      "source": [
        "**training the model**"
      ]
    },
    {
      "metadata": {
        "id": "k2JIxjEv-xaC",
        "colab_type": "code",
        "colab": {
          "base_uri": "https://localhost:8080/",
          "height": 34
        },
        "outputId": "a7d2fac9-b034-45e0-a2cb-5dc8481014f0"
      },
      "cell_type": "code",
      "source": [
        "# Initialize the als model and fit it using the sparse item-user matrix\n",
        "model = implicit.als.AlternatingLeastSquares(factors=20, regularization=0.1, iterations=20)\n",
        "\n",
        "# Calculate the confidence by multiplying it by our alpha value.\n",
        "alpha_val = 15\n",
        "data_conf = (sparse_item_user * alpha_val).astype('double')\n",
        "\n",
        "#Fit the model\n",
        "model.fit(data_conf)\n"
      ],
      "execution_count": 37,
      "outputs": [
        {
          "output_type": "stream",
          "text": [
            "100%|██████████| 20.0/20 [01:53<00:00,  5.05s/it]\n"
          ],
          "name": "stderr"
        }
      ]
    },
    {
      "metadata": {
        "id": "sA85uJRm24n7",
        "colab_type": "code",
        "colab": {
          "base_uri": "https://localhost:8080/",
          "height": 187
        },
        "outputId": "e17964bf-69bf-4e26-f141-e5579df9ef2f"
      },
      "cell_type": "code",
      "source": [
        "# Find the 10 most similar to Jay-Z\n",
        "item_id = 147068 #Jay-Z\n",
        "n_similar = 10\n",
        "\n",
        "# Use implicit to get similar items.\n",
        "similar = model.similar_items(item_id, n_similar)\n",
        "\n",
        "# Print the names of our most similar artists\n",
        "for item in similar:\n",
        "    idx, score = item\n",
        "    print (data.artist.loc[data.artist_id == idx].iloc[0])\n",
        "\n",
        "    \n"
      ],
      "execution_count": 38,
      "outputs": [
        {
          "output_type": "stream",
          "text": [
            "jay-z\n",
            "outkast\n",
            "the roots\n",
            "kanye west\n",
            "atmosphere\n",
            "2pac\n",
            "girl talk\n",
            "justin timberlake\n",
            "eminem\n",
            "beastie boys\n"
          ],
          "name": "stdout"
        }
      ]
    },
    {
      "metadata": {
        "id": "Dtrs678pCQSv",
        "colab_type": "code",
        "colab": {
          "base_uri": "https://localhost:8080/",
          "height": 204
        },
        "outputId": "bcbad150-82f4-4451-a32a-ee5db98e6e70"
      },
      "cell_type": "code",
      "source": [
        "\n",
        "# Create recommendations for user with id 999\n",
        "user_id = 999\n",
        "\n",
        "# Use the implicit recommender.\n",
        "recommended = model.recommend(user_id, sparse_user_item)\n",
        "\n",
        "artists = []\n",
        "scores = []\n",
        "\n",
        "# Get artist names from ids\n",
        "for item in recommended:\n",
        "    idx, score = item\n",
        "    artists.append(data.artist.loc[data.artist_id == idx].iloc[0])\n",
        "    scores.append(score)\n",
        "\n",
        "# Create a dataframe of artist names and scores\n",
        "recommendations = pd.DataFrame({'artist': artists, 'score': scores})\n",
        "\n",
        "print (recommendations)"
      ],
      "execution_count": 41,
      "outputs": [
        {
          "output_type": "stream",
          "text": [
            "                artist     score\n",
            "0         taylor swift  1.299753\n",
            "1        metro station  1.277994\n",
            "2        savage garden  1.243646\n",
            "3       carter burwell  1.227155\n",
            "4         kate voegele  1.211949\n",
            "5      plain white t's  1.199481\n",
            "6             aly & aj  1.195360\n",
            "7  panic! at the disco  1.160142\n",
            "8          onerepublic  1.148700\n",
            "9         superchic[k]  1.146393\n"
          ],
          "name": "stdout"
        }
      ]
    },
    {
      "metadata": {
        "id": "IDB6u4vDCdOr",
        "colab_type": "code",
        "colab": {}
      },
      "cell_type": "code",
      "source": [
        ""
      ],
      "execution_count": 0,
      "outputs": []
    }
  ]
}