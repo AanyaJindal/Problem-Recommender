{
 "cells": [
  {
   "cell_type": "code",
   "execution_count": 2,
   "metadata": {
    "collapsed": true
   },
   "outputs": [],
   "source": [
    "import numpy as np\n",
    "import pickle\n",
    "import pandas as pd\n",
    "import json\n",
    "import os\n",
    "import copy\n",
    "import gc\n",
    "import math\n",
    "import scipy.sparse as sp"
   ]
  },
  {
   "cell_type": "code",
   "execution_count": 3,
   "metadata": {
    "collapsed": true
   },
   "outputs": [],
   "source": [
    "with open('arrays/plsss.pkl','rb') as f:\n",
    "    mappings = pickle.load(f)\n",
    "with open('arrays/user_handle.pkl','rb') as f:\n",
    "    user_handle = pickle.load(f)\n",
    "with open('arrays/user_id.pkl','rb') as f:\n",
    "    user_id = pickle.load(f)\n",
    "with open('arrays/problem_mappings.pkl','rb') as f:\n",
    "    problem_id = pickle.load(f)\n",
    "with open('arrays/problem_name.pkl','rb') as f:\n",
    "    problem_name = pickle.load(f)"
   ]
  },
  {
   "cell_type": "code",
   "execution_count": 4,
   "metadata": {
    "collapsed": true
   },
   "outputs": [],
   "source": [
    "problem_AC = np.load('arrays/problem_AC.npy')\n",
    "problem_attempted = np.load('arrays/problem_attempted.npy')\n",
    "user_AC = np.load('arrays/user_AC.npy')\n",
    "user_attempted = np.load('arrays/user_attempted.npy')\n",
    "mean_user_rating = np.load('arrays/mean_user_rating.npy')"
   ]
  },
  {
   "cell_type": "code",
   "execution_count": 5,
   "metadata": {
    "collapsed": true
   },
   "outputs": [],
   "source": [
    "user_problem_data = sp.load_npz('arrays/user_prob_matrix_coo.npz')"
   ]
  },
  {
   "cell_type": "code",
   "execution_count": 6,
   "metadata": {},
   "outputs": [
    {
     "name": "stdout",
     "output_type": "stream",
     "text": [
      "[ 1076.   633.   193.  1055.   669.   526.   960.  1415.   934.   922.\n",
      "   744.   421.   472.   476.  1119.  1175.   884.   152.   614.   220.\n",
      "  1313.  1253.   694.  1559.   406.   280.  1665.  1006.   792.   861.\n",
      "   714.   526.   692.   905.  1010.   632.   164.   904.   331.   457.\n",
      "   420.   308.   790.   967.   288.   268.   218.   576.  1974.  3001.\n",
      "   454.    48.   896.   774.   856.   244.   625.   881.   406.   164.\n",
      "   131.   701.   565.  2662.    96.   301.  1197.   227.   707.   778.\n",
      "   530.   599.   691.   766.   396.   254.    83.   629.   312.   810.\n",
      "  1492.   634.    43.  1051.   774.    57.  1183.   333.    75.   675.\n",
      "   476.   325.  1039.   631.   285.   175.   655.  1438.   111.   486.]\n"
     ]
    }
   ],
   "source": [
    "print(user_AC[0:100])"
   ]
  },
  {
   "cell_type": "code",
   "execution_count": 7,
   "metadata": {},
   "outputs": [
    {
     "name": "stdout",
     "output_type": "stream",
     "text": [
      "0\n"
     ]
    }
   ],
   "source": [
    "print(user_id['tourist'])"
   ]
  },
  {
   "cell_type": "code",
   "execution_count": 8,
   "metadata": {},
   "outputs": [
    {
     "name": "stdout",
     "output_type": "stream",
     "text": [
      "22E\n"
     ]
    }
   ],
   "source": [
    "print(problem_name[100])"
   ]
  },
  {
   "cell_type": "code",
   "execution_count": 9,
   "metadata": {
    "collapsed": true
   },
   "outputs": [],
   "source": [
    "def get_problem_id(cid, idx):\n",
    "    if str(cid)+idx in problem_id:\n",
    "        return problem_id[str(cid)+idx]\n",
    "    if cid>len(mappings) or len(idx)>1:\n",
    "        return -1\n",
    "    if mappings[cid] !=  0:\n",
    "        #print(str(cid)+idx)\n",
    "        idx = chr(int(ord(idx) - mappings[cid][1]))\n",
    "        cid = cid + mappings[cid][0]\n",
    "        #print('haha'+str(cid)+idx)\n",
    "        if str(cid) + idx in problem_id:\n",
    "            return problem_id[str(cid)+idx]\n",
    "    return -1"
   ]
  },
  {
   "cell_type": "code",
   "execution_count": 10,
   "metadata": {
    "collapsed": true
   },
   "outputs": [],
   "source": [
    "dt = np.dtype({'names':('last_sub', 'first_sub','first_AC_sub','user_problem_AC','user_problem_attempted'),\n",
    "                          'formats':(np.int64, np.int64,np.int64,np.int32,np.int32)})"
   ]
  },
  {
   "cell_type": "code",
   "execution_count": 13,
   "metadata": {},
   "outputs": [],
   "source": [
    "x = []\n",
    "y = []\n",
    "p_val = []\n",
    "c_val = []"
   ]
  },
  {
   "cell_type": "code",
   "execution_count": 14,
   "metadata": {},
   "outputs": [],
   "source": [
    "for i,j,v in zip(user_problem_data.row, user_problem_data.col, user_problem_data.data):\n",
    "    x.append(i)\n",
    "    y.append(j)\n",
    "    c_val.append(v['user_problem_attempted'])\n",
    "    if v['user_problem_AC'] > 0:\n",
    "        p_val.append(1)\n",
    "    else:\n",
    "        p_val.append(0)"
   ]
  },
  {
   "cell_type": "code",
   "execution_count": 17,
   "metadata": {},
   "outputs": [],
   "source": [
    "preference = sp.coo_matrix((p_val, (x, y)), shape=(147000,4434))\n",
    "confidence = sp.coo_matrix((c_val, (x, y)), shape=(147000,4434))"
   ]
  },
  {
   "cell_type": "code",
   "execution_count": 19,
   "metadata": {
    "collapsed": true
   },
   "outputs": [],
   "source": [
    "del p_val,c_val"
   ]
  },
  {
   "cell_type": "code",
   "execution_count": 21,
   "metadata": {},
   "outputs": [],
   "source": [
    "preference = preference.tocsr()\n",
    "confidence = confidence.tocsr()"
   ]
  },
  {
   "cell_type": "code",
   "execution_count": 22,
   "metadata": {},
   "outputs": [
    {
     "name": "stdout",
     "output_type": "stream",
     "text": [
      "  (0, 0)\t1\n",
      "  (0, 3)\t1\n",
      "  (0, 4)\t1\n",
      "  (0, 5)\t0\n",
      "  (0, 16)\t1\n",
      "  (0, 29)\t1\n",
      "  (0, 30)\t1\n",
      "  (0, 31)\t1\n",
      "  (0, 33)\t1\n",
      "  (0, 39)\t1\n",
      "  (0, 40)\t1\n",
      "  (0, 41)\t1\n",
      "  (0, 43)\t0\n",
      "  (0, 54)\t1\n",
      "  (0, 55)\t1\n",
      "  (0, 56)\t1\n",
      "  (0, 57)\t0\n",
      "  (0, 64)\t1\n",
      "  (0, 65)\t1\n",
      "  (0, 66)\t1\n",
      "  (0, 67)\t1\n",
      "  (0, 68)\t1\n",
      "  (0, 69)\t1\n",
      "  (0, 70)\t1\n",
      "  (0, 71)\t1\n",
      "  :\t:\n",
      "  (146975, 3034)\t1\n",
      "  (146975, 3035)\t0\n",
      "  (146975, 3040)\t1\n",
      "  (146975, 3045)\t0\n",
      "  (146975, 3049)\t1\n",
      "  (146975, 3057)\t1\n",
      "  (146975, 3062)\t0\n",
      "  (146975, 3069)\t0\n",
      "  (146975, 3070)\t0\n",
      "  (146975, 3118)\t0\n",
      "  (146975, 3119)\t1\n",
      "  (146975, 3120)\t0\n",
      "  (146975, 3124)\t0\n",
      "  (146975, 3125)\t0\n",
      "  (146975, 3138)\t0\n",
      "  (146975, 3139)\t0\n",
      "  (146975, 3145)\t1\n",
      "  (146975, 3146)\t0\n",
      "  (146975, 3190)\t0\n",
      "  (146975, 3830)\t1\n",
      "  (146975, 3832)\t0\n",
      "  (146975, 3833)\t0\n",
      "  (146975, 3866)\t0\n",
      "  (146975, 3885)\t0\n",
      "  (146975, 4225)\t0\n"
     ]
    }
   ],
   "source": [
    "print(preference)"
   ]
  },
  {
   "cell_type": "code",
   "execution_count": 23,
   "metadata": {
    "collapsed": true
   },
   "outputs": [],
   "source": [
    "sp.save_npz('pref.npz',preference)\n",
    "sp.save_npz('confi.npz',confidence)"
   ]
  },
  {
   "cell_type": "code",
   "execution_count": null,
   "metadata": {
    "collapsed": true
   },
   "outputs": [],
   "source": []
  }
 ],
 "metadata": {
  "kernelspec": {
   "display_name": "Python 3",
   "language": "python",
   "name": "python3"
  },
  "language_info": {
   "codemirror_mode": {
    "name": "ipython",
    "version": 3
   },
   "file_extension": ".py",
   "mimetype": "text/x-python",
   "name": "python",
   "nbconvert_exporter": "python",
   "pygments_lexer": "ipython3",
   "version": "3.5.2"
  }
 },
 "nbformat": 4,
 "nbformat_minor": 2
}
