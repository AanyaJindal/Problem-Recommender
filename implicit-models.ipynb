{
 "cells": [
  {
   "cell_type": "code",
   "execution_count": 1,
   "metadata": {},
   "outputs": [],
   "source": [
    "import numpy as np\n",
    "import pickle\n",
    "import pandas as pd\n",
    "import json\n",
    "import os\n",
    "import copy\n",
    "import gc\n",
    "import math\n",
    "import scipy.sparse as sp"
   ]
  },
  {
   "cell_type": "code",
   "execution_count": 2,
   "metadata": {},
   "outputs": [],
   "source": [
    "with open('data/plsss.pkl','rb') as f:\n",
    "    mappings = pickle.load(f)\n",
    "with open('data/user_handle.pkl','rb') as f:\n",
    "    user_handle = pickle.load(f)\n",
    "with open('data/user_id.pkl','rb') as f:\n",
    "    user_id = pickle.load(f)\n",
    "with open('data/problem_mappings.pkl','rb') as f:\n",
    "    problem_id = pickle.load(f)\n",
    "with open('data/problem_name.pkl','rb') as f:\n",
    "    problem_name = pickle.load(f)"
   ]
  },
  {
   "cell_type": "code",
   "execution_count": 3,
   "metadata": {},
   "outputs": [],
   "source": [
    "problem_AC = np.load('data/problem_AC.npy')\n",
    "problem_attempted = np.load('data/problem_attempted.npy')\n",
    "user_AC = np.load('data/user_AC.npy')\n",
    "user_attempted = np.load('data/user_attempted.npy')\n",
    "mean_user_rating = np.load('data/mean_user_rating.npy')"
   ]
  },
  {
   "cell_type": "code",
   "execution_count": 4,
   "metadata": {},
   "outputs": [],
   "source": [
    "def get_problem_id(cid, idx):\n",
    "    if str(cid)+idx in problem_id:\n",
    "        return problem_id[str(cid)+idx]\n",
    "    if cid>len(mappings) or len(idx)>1:\n",
    "        return -1\n",
    "    if mappings[cid] !=  0:\n",
    "        #print(str(cid)+idx)\n",
    "        idx = chr(int(ord(idx) - mappings[cid][1]))\n",
    "        cid = cid + mappings[cid][0]\n",
    "        #print('haha'+str(cid)+idx)\n",
    "        if str(cid) + idx in problem_id:\n",
    "            return problem_id[str(cid)+idx]\n",
    "    return -1"
   ]
  },
  {
   "cell_type": "code",
   "execution_count": 5,
   "metadata": {},
   "outputs": [
    {
     "name": "stdout",
     "output_type": "stream",
     "text": [
      "Requirement already satisfied: implicit in /Users/aanyajindal/anaconda3/lib/python3.6/site-packages\n",
      "Requirement already satisfied: scipy>=0.16 in /Users/aanyajindal/anaconda3/lib/python3.6/site-packages (from implicit)\n",
      "Requirement already satisfied: numpy in /Users/aanyajindal/anaconda3/lib/python3.6/site-packages (from implicit)\n",
      "Requirement already satisfied: tqdm in /Users/aanyajindal/anaconda3/lib/python3.6/site-packages (from implicit)\n",
      "\u001b[33mYou are using pip version 9.0.1, however version 18.1 is available.\n",
      "You should consider upgrading via the 'pip install --upgrade pip' command.\u001b[0m\n"
     ]
    }
   ],
   "source": [
    "# !pip install implicit"
   ]
  },
  {
   "cell_type": "code",
   "execution_count": 32,
   "metadata": {},
   "outputs": [],
   "source": [
    "# !pip install annoy\n",
    "# !pip install nmslib\n",
    "import implicit\n",
    "import annoy\n",
    "import nmslib"
   ]
  },
  {
   "cell_type": "code",
   "execution_count": 30,
   "metadata": {},
   "outputs": [
    {
     "name": "stdout",
     "output_type": "stream",
     "text": [
      "Solving environment: done\n",
      "\n",
      "\n",
      "==> WARNING: A newer version of conda exists. <==\n",
      "  current version: 4.4.10\n",
      "  latest version: 4.5.11\n",
      "\n",
      "Please update conda by running\n",
      "\n",
      "    $ conda update -n base conda\n",
      "\n",
      "\n",
      "\n",
      "## Package Plan ##\n",
      "\n",
      "  environment location: /Users/aanyajindal/anaconda3\n",
      "\n",
      "  added / updated specs: \n",
      "    - nmslib\n",
      "\n",
      "\n",
      "The following packages will be downloaded:\n",
      "\n",
      "    package                    |            build\n",
      "    ---------------------------|-----------------\n",
      "    certifi-2018.10.15         |           py36_0         138 KB\n",
      "    ca-certificates-2018.03.07 |                0         124 KB\n",
      "    numpy-1.14.2               |   py36ha9ae307_0         3.9 MB\n",
      "    pybind11-2.2.4             |   py36h04f5b5a_0         114 KB\n",
      "    openssl-1.0.2p             |       h1de35cc_0         3.4 MB\n",
      "    nmslib-1.7.2               |           py36_0         1.2 MB  akode\n",
      "    blas-1.0                   |              mkl           5 KB\n",
      "    ------------------------------------------------------------\n",
      "                                           Total:         8.9 MB\n",
      "\n",
      "The following NEW packages will be INSTALLED:\n",
      "\n",
      "    blas:            1.0-mkl                    \n",
      "    nmslib:          1.7.2-py36_0          akode\n",
      "    pybind11:        2.2.4-py36h04f5b5a_0       \n",
      "\n",
      "The following packages will be UPDATED:\n",
      "\n",
      "    ca-certificates: 2017.08.26-ha1e5d58_0       --> 2018.03.07-0         \n",
      "    certifi:         2018.1.18-py36_0            --> 2018.10.15-py36_0    \n",
      "    numpy:           1.14.0-py36h8a80b8c_1       --> 1.14.2-py36ha9ae307_0\n",
      "    openssl:         1.0.2n-hdbc3d79_0           --> 1.0.2p-h1de35cc_0    \n",
      "\n",
      "Proceed ([y]/n)? ^C\n"
     ]
    }
   ],
   "source": [
    "# !conda install -c akode nmslib"
   ]
  },
  {
   "cell_type": "code",
   "execution_count": 31,
   "metadata": {},
   "outputs": [
    {
     "ename": "SyntaxError",
     "evalue": "invalid syntax (<ipython-input-31-39f21265b96f>, line 1)",
     "output_type": "error",
     "traceback": [
      "\u001b[0;36m  File \u001b[0;32m\"<ipython-input-31-39f21265b96f>\"\u001b[0;36m, line \u001b[0;32m1\u001b[0m\n\u001b[0;31m    conda install faiss-cpu -c pytorch\u001b[0m\n\u001b[0m                ^\u001b[0m\n\u001b[0;31mSyntaxError\u001b[0m\u001b[0;31m:\u001b[0m invalid syntax\n"
     ]
    }
   ],
   "source": [
    "# conda install faiss-cpu -c pytorch"
   ]
  },
  {
   "cell_type": "code",
   "execution_count": 7,
   "metadata": {},
   "outputs": [],
   "source": [
    "sparse_user_item = sp.load_npz('data/confi.npz')\n",
    "sparse_item_user = sp.load_npz('data/confi.npz')"
   ]
  },
  {
   "cell_type": "code",
   "execution_count": 8,
   "metadata": {},
   "outputs": [
    {
     "name": "stdout",
     "output_type": "stream",
     "text": [
      "  (0, 0)\t1\n",
      "  (0, 3)\t2\n",
      "  (0, 4)\t3\n",
      "  (0, 5)\t6\n",
      "  (0, 16)\t1\n",
      "  (0, 29)\t1\n",
      "  (0, 30)\t1\n",
      "  (0, 31)\t1\n",
      "  (0, 33)\t1\n",
      "  (0, 39)\t1\n",
      "  (0, 40)\t1\n",
      "  (0, 41)\t2\n",
      "  (0, 43)\t20\n",
      "  (0, 54)\t1\n",
      "  (0, 55)\t1\n",
      "  (0, 56)\t1\n",
      "  (0, 57)\t7\n",
      "  (0, 64)\t1\n",
      "  (0, 65)\t4\n",
      "  (0, 66)\t2\n",
      "  (0, 67)\t2\n",
      "  (0, 68)\t2\n",
      "  (0, 69)\t1\n",
      "  (0, 70)\t1\n",
      "  (0, 71)\t1\n",
      "  :\t:\n",
      "  (146975, 3034)\t1\n",
      "  (146975, 3035)\t8\n",
      "  (146975, 3040)\t3\n",
      "  (146975, 3045)\t2\n",
      "  (146975, 3049)\t1\n",
      "  (146975, 3057)\t2\n",
      "  (146975, 3062)\t1\n",
      "  (146975, 3069)\t1\n",
      "  (146975, 3070)\t1\n",
      "  (146975, 3118)\t0\n",
      "  (146975, 3119)\t1\n",
      "  (146975, 3120)\t4\n",
      "  (146975, 3124)\t1\n",
      "  (146975, 3125)\t1\n",
      "  (146975, 3138)\t10\n",
      "  (146975, 3139)\t4\n",
      "  (146975, 3145)\t10\n",
      "  (146975, 3146)\t0\n",
      "  (146975, 3190)\t1\n",
      "  (146975, 3830)\t1\n",
      "  (146975, 3832)\t1\n",
      "  (146975, 3833)\t2\n",
      "  (146975, 3866)\t4\n",
      "  (146975, 3885)\t1\n",
      "  (146975, 4225)\t1\n"
     ]
    }
   ],
   "source": [
    "sparse_item_user = sparse_item_user.transpose()\n",
    "print(sparse_user_item)"
   ]
  },
  {
   "cell_type": "code",
   "execution_count": 9,
   "metadata": {},
   "outputs": [
    {
     "name": "stderr",
     "output_type": "stream",
     "text": [
      "/Users/aanyajindal/anaconda3/lib/python3.6/site-packages/h5py/__init__.py:36: FutureWarning: Conversion of the second argument of issubdtype from `float` to `np.floating` is deprecated. In future, it will be treated as `np.float64 == np.dtype(float).type`.\n",
      "  from ._conv import register_converters as _register_converters\n"
     ]
    }
   ],
   "source": [
    "from implicit.als import AlternatingLeastSquares\n",
    "from implicit.approximate_als import (AnnoyAlternatingLeastSquares, FaissAlternatingLeastSquares,\n",
    "                                      NMSLibAlternatingLeastSquares)\n",
    "from implicit.bpr import BayesianPersonalizedRanking\n",
    "from implicit.nearest_neighbours import (BM25Recommender, CosineRecommender,\n",
    "                                         TFIDFRecommender, bm25_weight)\n",
    "from implicit.datasets.lastfm import get_lastfm"
   ]
  },
  {
   "cell_type": "code",
   "execution_count": 10,
   "metadata": {},
   "outputs": [],
   "source": [
    "# maps command line model argument to class name\n",
    "MODELS = {\"als\":  AlternatingLeastSquares,\n",
    "          \"nmslib_als\": NMSLibAlternatingLeastSquares,\n",
    "          \"annoy_als\": AnnoyAlternatingLeastSquares,\n",
    "          \"faiss_als\": FaissAlternatingLeastSquares,\n",
    "          \"tfidf\": TFIDFRecommender,\n",
    "          \"cosine\": CosineRecommender,\n",
    "          \"bpr\": BayesianPersonalizedRanking,\n",
    "          \"bm25\": BM25Recommender}"
   ]
  },
  {
   "cell_type": "code",
   "execution_count": 24,
   "metadata": {},
   "outputs": [],
   "source": [
    "def get_model(model_name):\n",
    "    print(\"getting model %s\" % model_name)\n",
    "    model_class = MODELS.get(model_name)\n",
    "    if not model_class:\n",
    "        raise ValueError(\"Unknown Model '%s'\" % model_name)\n",
    "\n",
    "    # some default params\n",
    "    if issubclass(model_class, AlternatingLeastSquares):\n",
    "        params = { 'factors' : 30, 'regularization' : 0.1, 'iterations' : 20}\n",
    "    elif model_name == \"bm25\":\n",
    "        params = {'K1': 100, 'B': 0.5}\n",
    "    elif model_name == \"bpr\":\n",
    "        params = {'factors': 63}\n",
    "    else:\n",
    "        params = {}\n",
    "    return model_class(**params)"
   ]
  },
  {
   "cell_type": "code",
   "execution_count": 36,
   "metadata": {},
   "outputs": [
    {
     "name": "stdout",
     "output_type": "stream",
     "text": [
      "getting model als\n",
      "getting model nmslib_als\n",
      "getting model annoy_als\n",
      "getting model faiss_als\n",
      "getting model tfidf\n",
      "getting model cosine\n",
      "getting model bpr\n",
      "getting model bm25\n"
     ]
    }
   ],
   "source": [
    "TRAINED_MODELS = {} \n",
    "# TRAINED_MODELS[\"als\"] = get_model(\"als\");\n",
    "for key in MODELS:\n",
    "    TRAINED_MODELS[key] = get_model(key)"
   ]
  },
  {
   "cell_type": "code",
   "execution_count": 37,
   "metadata": {},
   "outputs": [
    {
     "name": "stderr",
     "output_type": "stream",
     "text": [
      "100%|██████████| 20.0/20 [00:28<00:00,  1.33s/it]\n",
      "100%|██████████| 20.0/20 [00:28<00:00,  1.40s/it]\n",
      "100%|██████████| 20.0/20 [00:29<00:00,  1.41s/it]\n",
      "100%|██████████| 20.0/20 [00:29<00:00,  1.39s/it]\n",
      "100%|██████████| 4434/4434 [00:01<00:00, 2559.19it/s]\n",
      "100%|██████████| 4434/4434 [00:01<00:00, 2563.21it/s]\n",
      "100%|██████████| 100/100 [01:40<00:00,  1.14s/it, correct=93.46%, skipped=17.14%]\n",
      "100%|██████████| 4434/4434 [00:01<00:00, 2661.57it/s]\n"
     ]
    }
   ],
   "source": [
    "for key in MODELS:\n",
    "    TRAINED_MODELS[key].fit(sparse_item_user)"
   ]
  },
  {
   "cell_type": "code",
   "execution_count": 39,
   "metadata": {},
   "outputs": [
    {
     "name": "stdout",
     "output_type": "stream",
     "text": [
      "AlternatingLeastSquares\n",
      "[(2047, 0.8525554), (3132, 0.8510778), (3660, 0.84038234), (3158, 0.829785), (3196, 0.8250598), (3195, 0.8066391), (3197, 0.7868161), (2457, 0.7807896), (3554, 0.7604027), (2447, 0.7504646)]\n",
      "474D\n",
      "734C\n",
      "854B\n",
      "742B\n",
      "750B\n",
      "750A\n",
      "750C\n",
      "580B\n",
      "833A\n",
      "577B\n"
     ]
    }
   ],
   "source": [
    "print(\"AlternatingLeastSquares\")\n",
    "rec = TRAINED_MODELS[\"als\"].recommend(24593, sparse_user_item)\n",
    "print(rec)\n",
    "for i in range(len(rec)):\n",
    "    print(problem_name[rec[i][0]])"
   ]
  },
  {
   "cell_type": "code",
   "execution_count": 40,
   "metadata": {},
   "outputs": [
    {
     "name": "stdout",
     "output_type": "stream",
     "text": [
      "NMSLibAlternatingLeastSquares\n",
      "[(3132, 0.8654004), (3660, 0.85219437), (3158, 0.8370004), (3196, 0.8302378), (3195, 0.8261272), (3197, 0.7920261), (3554, 0.77872986), (3071, 0.7385594), (3058, 0.73668236), (3562, 0.73470044)]\n",
      "734C\n",
      "854B\n",
      "742B\n",
      "750B\n",
      "750A\n",
      "750C\n",
      "833A\n",
      "723D\n",
      "721B\n",
      "835B\n"
     ]
    }
   ],
   "source": [
    "print(\"NMSLibAlternatingLeastSquares\")\n",
    "rec = TRAINED_MODELS[\"nmslib_als\"].recommend(24593, sparse_user_item)\n",
    "print(rec)\n",
    "for i in range(len(rec)):\n",
    "    print(problem_name[rec[i][0]])"
   ]
  },
  {
   "cell_type": "code",
   "execution_count": 41,
   "metadata": {},
   "outputs": [
    {
     "name": "stdout",
     "output_type": "stream",
     "text": [
      "AnnoyAlternatingLeastSquares\n",
      "[(3132, 0.895273413071339), (3158, 0.8792915669818797), (2047, 0.866520672834261), (3196, 0.8351614125421153), (3195, 0.8287860693912628), (3660, 0.8154518457763651), (3554, 0.7947159648119714), (3197, 0.7919956345088313), (2457, 0.7762978018967764), (3562, 0.7487856968485501)]\n",
      "734C\n",
      "742B\n",
      "474D\n",
      "750B\n",
      "750A\n",
      "854B\n",
      "833A\n",
      "750C\n",
      "580B\n",
      "835B\n"
     ]
    }
   ],
   "source": [
    "print(\"AnnoyAlternatingLeastSquares\")\n",
    "rec = TRAINED_MODELS[\"annoy_als\"].recommend(24593, sparse_user_item)\n",
    "print(rec)\n",
    "for i in range(len(rec)):\n",
    "    print(problem_name[rec[i][0]])"
   ]
  },
  {
   "cell_type": "code",
   "execution_count": 42,
   "metadata": {},
   "outputs": [
    {
     "name": "stdout",
     "output_type": "stream",
     "text": [
      "FaissAlternatingLeastSquares\n",
      "[(3132, 0.8657158), (3196, 0.85909724), (3158, 0.85095733), (3660, 0.8430778), (2047, 0.8423544), (3197, 0.81303596), (3554, 0.7895785), (3225, 0.75530314), (2447, 0.75273013), (3071, 0.7195673)]\n",
      "734C\n",
      "750B\n",
      "742B\n",
      "854B\n",
      "474D\n",
      "750C\n",
      "833A\n",
      "757B\n",
      "577B\n",
      "723D\n"
     ]
    }
   ],
   "source": [
    "print(\"FaissAlternatingLeastSquares\")\n",
    "rec = TRAINED_MODELS[\"annoy_als\"].recommend(24593, sparse_user_item)\n",
    "print(rec)\n",
    "for i in range(len(rec)):\n",
    "    print(problem_name[rec[i][0]])"
   ]
  },
  {
   "cell_type": "code",
   "execution_count": 48,
   "metadata": {},
   "outputs": [
    {
     "name": "stdout",
     "output_type": "stream",
     "text": [
      "TFIDFRecommender\n",
      "[(2473, 12.130588167377903), (3057, 11.348712901024426), (2457, 10.272810301543416), (2441, 10.055864124403733), (3561, 9.875561198987693), (2634, 9.83492521260234), (2091, 9.795699199937069), (2647, 9.640222096949733), (3157, 9.504550740812363), (3554, 9.488534415691062)]\n",
      "583B\n",
      "721A\n",
      "580B\n",
      "576A\n",
      "835A\n",
      "618B\n",
      "486C\n",
      "621B\n",
      "742A\n",
      "833A\n"
     ]
    }
   ],
   "source": [
    "print(\"TFIDFRecommender\")\n",
    "rec = TRAINED_MODELS[\"tfidf\"].recommend(24593, sparse_user_item.astype('double'))\n",
    "print(rec)\n",
    "for i in range(len(rec)):\n",
    "    print(problem_name[rec[i][0]])"
   ]
  },
  {
   "cell_type": "code",
   "execution_count": 49,
   "metadata": {},
   "outputs": [
    {
     "name": "stdout",
     "output_type": "stream",
     "text": [
      "CosineRecommender\n",
      "[(3195, 19.716005760134), (3196, 15.947029961941867), (3057, 15.342357193519097), (3320, 15.098618698913654), (3561, 14.78278733176253), (2473, 12.777909944862015), (3321, 11.524583498360043), (2441, 11.230204704176954), (3151, 10.896333245003017), (2091, 10.343204896258367)]\n",
      "750A\n",
      "750B\n",
      "721A\n",
      "776A\n",
      "835A\n",
      "583B\n",
      "776B\n",
      "576A\n",
      "740B\n",
      "486C\n"
     ]
    }
   ],
   "source": [
    "print(\"CosineRecommender\")\n",
    "rec = TRAINED_MODELS[\"cosine\"].recommend(24593, sparse_user_item.astype('double'))\n",
    "print(rec)\n",
    "for i in range(len(rec)):\n",
    "    print(problem_name[rec[i][0]])"
   ]
  },
  {
   "cell_type": "code",
   "execution_count": 45,
   "metadata": {},
   "outputs": [
    {
     "name": "stdout",
     "output_type": "stream",
     "text": [
      "BayesianPersonalizedRanking\n",
      "[(3109, 3.0798333), (3139, 2.666864), (3132, 2.5139813), (3158, 2.4891126), (3117, 2.4462817), (2047, 2.4455173), (3127, 2.4428802), (2477, 2.4390447), (3151, 2.4110217), (3162, 2.4006019)]\n",
      "730J\n",
      "735D\n",
      "734C\n",
      "742B\n",
      "731F\n",
      "474D\n",
      "733D\n",
      "584D\n",
      "740B\n",
      "743D\n"
     ]
    }
   ],
   "source": [
    "print(\"BayesianPersonalizedRanking\")\n",
    "rec = TRAINED_MODELS[\"bpr\"].recommend(24593, sparse_user_item)\n",
    "print(rec)\n",
    "for i in range(len(rec)):\n",
    "    print(problem_name[rec[i][0]])"
   ]
  },
  {
   "cell_type": "code",
   "execution_count": 50,
   "metadata": {},
   "outputs": [
    {
     "name": "stdout",
     "output_type": "stream",
     "text": [
      "BM25Recommender\n",
      "[(3373, 2180982.172084487), (3554, 1939548.4559641036), (3158, 1862188.2311556651), (3533, 1710653.2252629686), (2664, 1654144.6392246545), (3271, 1651549.691309037), (3132, 1587830.7320572687), (2691, 1537678.833391359), (2457, 1535248.6028317816), (2616, 1432171.3908982624)]\n",
      "789B\n",
      "833A\n",
      "742B\n",
      "827A\n",
      "625A\n",
      "767B\n",
      "734C\n",
      "629D\n",
      "580B\n",
      "614B\n"
     ]
    }
   ],
   "source": [
    "print(\"BM25Recommender\")\n",
    "rec = TRAINED_MODELS[\"bm25\"].recommend(24593, sparse_user_item.astype('double'))\n",
    "print(rec)\n",
    "for i in range(len(rec)):\n",
    "    print(problem_name[rec[i][0]])"
   ]
  },
  {
   "cell_type": "code",
   "execution_count": null,
   "metadata": {},
   "outputs": [],
   "source": []
  }
 ],
 "metadata": {
  "kernelspec": {
   "display_name": "Python 3",
   "language": "python",
   "name": "python3"
  },
  "language_info": {
   "codemirror_mode": {
    "name": "ipython",
    "version": 3
   },
   "file_extension": ".py",
   "mimetype": "text/x-python",
   "name": "python",
   "nbconvert_exporter": "python",
   "pygments_lexer": "ipython3",
   "version": "3.6.4"
  }
 },
 "nbformat": 4,
 "nbformat_minor": 2
}
