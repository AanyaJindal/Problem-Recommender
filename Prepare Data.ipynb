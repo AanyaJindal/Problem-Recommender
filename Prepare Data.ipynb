{
 "cells": [
  {
   "cell_type": "code",
   "execution_count": 2,
   "metadata": {},
   "outputs": [],
   "source": [
    "import numpy as np\n",
    "import json\n",
    "import pandas as pd"
   ]
  },
  {
   "cell_type": "code",
   "execution_count": 3,
   "metadata": {},
   "outputs": [],
   "source": [
    "users = json.load(open(\"users.txt\", \"r\"))"
   ]
  },
  {
   "cell_type": "code",
   "execution_count": 4,
   "metadata": {},
   "outputs": [
    {
     "name": "stdout",
     "output_type": "stream",
     "text": [
      "<class 'dict'>\n"
     ]
    }
   ],
   "source": [
    "print(type(users))"
   ]
  },
  {
   "cell_type": "code",
   "execution_count": 5,
   "metadata": {},
   "outputs": [
    {
     "name": "stdout",
     "output_type": "stream",
     "text": [
      "2\n"
     ]
    }
   ],
   "source": [
    "print(len(users))"
   ]
  },
  {
   "cell_type": "code",
   "execution_count": 6,
   "metadata": {},
   "outputs": [
    {
     "name": "stdout",
     "output_type": "stream",
     "text": [
      "146976\n"
     ]
    }
   ],
   "source": [
    "print(len(users['result']))"
   ]
  },
  {
   "cell_type": "code",
   "execution_count": 7,
   "metadata": {},
   "outputs": [],
   "source": [
    "users = users['result']"
   ]
  },
  {
   "cell_type": "code",
   "execution_count": 8,
   "metadata": {},
   "outputs": [
    {
     "name": "stdout",
     "output_type": "stream",
     "text": [
      "<class 'list'>\n"
     ]
    }
   ],
   "source": [
    "print(type(users))"
   ]
  },
  {
   "cell_type": "code",
   "execution_count": 9,
   "metadata": {},
   "outputs": [
    {
     "name": "stdout",
     "output_type": "stream",
     "text": [
      "{'lastName': 'Korotkevich', 'country': 'Belarus', 'lastOnlineTimeSeconds': 1535792604, 'city': 'Gomel', 'rating': 3434, 'friendOfCount': 14191, 'titlePhoto': '//userpic.codeforces.com/422/title/6dd5ba0df6a2f834.jpg', 'handle': 'tourist', 'avatar': '//userpic.codeforces.com/422/avatar/1d4e692d6695dfa6.jpg', 'firstName': 'Gennady', 'contribution': 158, 'organization': 'ITMO University', 'rank': 'legendary grandmaster', 'maxRating': 3739, 'registrationTimeSeconds': 1265987288, 'maxRank': 'legendary grandmaster'}\n"
     ]
    }
   ],
   "source": [
    "print((users[0]))"
   ]
  },
  {
   "cell_type": "code",
   "execution_count": 10,
   "metadata": {},
   "outputs": [],
   "source": [
    "# maps the handle to id\n",
    "user_id = {}\n",
    "# gives the handle correspocwdnding to the user_id\n",
    "user_handle = []\n",
    "for i in range(len(users)):\n",
    "    user_id[users[i]['handle']] = i\n",
    "    user_handle.append(users[i]['handle'])"
   ]
  },
  {
   "cell_type": "code",
   "execution_count": 11,
   "metadata": {},
   "outputs": [],
   "source": [
    "# print(user_id)"
   ]
  },
  {
   "cell_type": "code",
   "execution_count": 12,
   "metadata": {},
   "outputs": [
    {
     "name": "stdout",
     "output_type": "stream",
     "text": [
      "146976\n"
     ]
    }
   ],
   "source": [
    "print(len(user_handle))"
   ]
  },
  {
   "cell_type": "code",
   "execution_count": 13,
   "metadata": {},
   "outputs": [],
   "source": [
    "problems = json.load(open('problems.txt', 'r'))"
   ]
  },
  {
   "cell_type": "code",
   "execution_count": 14,
   "metadata": {},
   "outputs": [
    {
     "name": "stdout",
     "output_type": "stream",
     "text": [
      "2\n"
     ]
    }
   ],
   "source": [
    "print(len(problems))"
   ]
  },
  {
   "cell_type": "code",
   "execution_count": 15,
   "metadata": {},
   "outputs": [],
   "source": [
    "problems = problems['result']"
   ]
  },
  {
   "cell_type": "code",
   "execution_count": 16,
   "metadata": {},
   "outputs": [
    {
     "name": "stdout",
     "output_type": "stream",
     "text": [
      "2\n"
     ]
    }
   ],
   "source": [
    "print(len(problems))"
   ]
  },
  {
   "cell_type": "code",
   "execution_count": 17,
   "metadata": {},
   "outputs": [
    {
     "name": "stdout",
     "output_type": "stream",
     "text": [
      "<class 'dict'>\n"
     ]
    }
   ],
   "source": [
    "print(type(problems))"
   ]
  },
  {
   "cell_type": "code",
   "execution_count": 18,
   "metadata": {},
   "outputs": [],
   "source": [
    "# print(problems)"
   ]
  },
  {
   "cell_type": "code",
   "execution_count": 19,
   "metadata": {},
   "outputs": [],
   "source": [
    "problems = problems['problems']"
   ]
  },
  {
   "cell_type": "code",
   "execution_count": 20,
   "metadata": {},
   "outputs": [
    {
     "name": "stdout",
     "output_type": "stream",
     "text": [
      "4433\n"
     ]
    }
   ],
   "source": [
    "print(len(problems))"
   ]
  },
  {
   "cell_type": "code",
   "execution_count": 21,
   "metadata": {},
   "outputs": [
    {
     "name": "stdout",
     "output_type": "stream",
     "text": [
      "{'contestId': 1029, 'index': 'F', 'name': 'Multicolored Markers', 'type': 'PROGRAMMING', 'tags': ['binary search', 'math', 'number theory']}\n"
     ]
    }
   ],
   "source": [
    "print(problems[0])"
   ]
  },
  {
   "cell_type": "code",
   "execution_count": 22,
   "metadata": {},
   "outputs": [],
   "source": [
    "# maps the contest_id+index to id\n",
    "problem_id = {}\n",
    "# gives the contest_id+index correspocwdnding to the problem_id\n",
    "problem_name = []\n",
    "l = len(problems)\n",
    "for i in range(len(problems)-1, 0, -1):\n",
    "    problem_id[str(problems[i]['contestId']) + problems[i]['index']] = l-i-1\n",
    "    problem_name.append(str(problems[i]['contestId']) + problems[i]['index'])"
   ]
  },
  {
   "cell_type": "code",
   "execution_count": 23,
   "metadata": {},
   "outputs": [],
   "source": [
    "# print(problem_id)"
   ]
  },
  {
   "cell_type": "code",
   "execution_count": 24,
   "metadata": {},
   "outputs": [],
   "source": [
    "# print(problem_name)"
   ]
  },
  {
   "cell_type": "code",
   "execution_count": 25,
   "metadata": {},
   "outputs": [
    {
     "name": "stdout",
     "output_type": "stream",
     "text": [
      "{'last_sub': -1, 'first_sub': 20000000000, 'time_delta': 0, 'first_AC_sub': 20000000000, 'user_problem_AC': 0, 'user_problem_attempted': 0}\n"
     ]
    }
   ],
   "source": [
    "# create dummy data for testing\n",
    "dummy = [[{'contestId':1,'index':'A','creationTimeSeconds':2140000000,'passedTestCount':1,'verdict':'OK'}]]\n",
    "# initialise to min and max\n",
    "# dict params: last_sub, first_sub, time_delta, first_AC_sub, user_problem_AC, user_problem_attempted\n",
    "user_problem_data = []\n",
    "problem_AC = []\n",
    "problem_attempted = []\n",
    "user_AC = []\n",
    "user_attempted = []\n",
    "contest_AC = []\n",
    "\n",
    "for u in range(len(users)):\n",
    "    user_AC.append(0)\n",
    "    user_attempted.append(0)\n",
    "    temp1 = []\n",
    "    for p in range(len(problems)):\n",
    "        temp2 = {'last_sub': -1,'first_sub':20000000000,'time_delta':0,'first_AC_sub':20000000000,'user_problem_AC':0,'user_problem_attempted':0}\n",
    "        temp1.append(temp2)\n",
    "    user_problem_data.append(temp1)\n",
    "for p in range(len(problems)):\n",
    "    problem_AC.append(0)\n",
    "    problem_attempted.append(0)\n",
    "    \n",
    "# take length of contests as well (more desirable)\n",
    "for c in range(2000):\n",
    "    contest_AC.append(0)"
   ]
  },
  {
   "cell_type": "code",
   "execution_count": 26,
   "metadata": {},
   "outputs": [
    {
     "name": "stdout",
     "output_type": "stream",
     "text": [
      "0\n",
      "0\n"
     ]
    }
   ],
   "source": [
    "# u denotes user and s denotes submission\n",
    "for u in range(len(dummy)):\n",
    "    for s in range(len(dummy[u])):\n",
    "        user_submission = dummy[u][s]\n",
    "        pid = problem_id[str(user_submission['contestId'])+user_submission['index']]\n",
    "        creationTimeSeconds = user_submission['creationTimeSeconds']\n",
    "        user_problem_data[u][pid]['last_sub'] = max(user_problem_data[u][pid]['last_sub'], creationTimeSeconds)\n",
    "        user_problem_data[u][pid]['first_sub'] = min(user_problem_data[u][pid]['first_sub'], creationTimeSeconds)\n",
    "        user_problem_data[u][pid]['time_delta'] = user_problem_data[u][pid]['last_sub'] - user_problem_data[u][pid]['first_sub']\n",
    "        verdict = user_submission['verdict']\n",
    "        passedTestCount = user_submission['passedTestCount']\n",
    "        contestId = user_submission['contestId']\n",
    "        if verdict == 'OK':\n",
    "            user_problem_data[u][pid]['first_AC_sub'] = min(user_problem_data[u][pid]['first_AC_sub'], creationTimeSeconds)\n",
    "            user_problem_data[u][pid]['user_problem_AC'] += 1\n",
    "            user_AC[u] += 1\n",
    "            problem_AC[pid] += 1\n",
    "            contest_AC[contestId] += 1\n",
    "        if passedTestCount > 0:\n",
    "            user_problem_data[u][pid]['user_problem_attempted'] += 1\n",
    "            user_attempted[u] += 1\n",
    "            problem_attempted[pid] += 1"
   ]
  },
  {
   "cell_type": "code",
   "execution_count": null,
   "metadata": {},
   "outputs": [],
   "source": []
  }
 ],
 "metadata": {
  "kernelspec": {
   "display_name": "Python 3",
   "language": "python",
   "name": "python3"
  },
  "language_info": {
   "codemirror_mode": {
    "name": "ipython",
    "version": 3
   },
   "file_extension": ".py",
   "mimetype": "text/x-python",
   "name": "python",
   "nbconvert_exporter": "python",
   "pygments_lexer": "ipython3",
   "version": "3.6.5"
  }
 },
 "nbformat": 4,
 "nbformat_minor": 2
}
