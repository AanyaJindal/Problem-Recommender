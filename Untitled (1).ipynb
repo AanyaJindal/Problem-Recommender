{
 "cells": [
  {
   "cell_type": "code",
   "execution_count": 1,
   "metadata": {},
   "outputs": [],
   "source": [
    "import requests\n",
    "import json\n",
    "import pandas as pd\n",
    "import numpy as np\n",
    "import urllib\n",
    "from urllib.parse import urlencode\n",
    "import time\n",
    "from random import randint\n",
    "import hashlib\n",
    "import collections\n",
    "import pickle"
   ]
  },
  {
   "cell_type": "code",
   "execution_count": null,
   "metadata": {},
   "outputs": [],
   "source": [
    "base = \"http://codeforces.com/api/\""
   ]
  },
  {
   "cell_type": "code",
   "execution_count": null,
   "metadata": {},
   "outputs": [],
   "source": [
    "apikey = \"cc8887cc1897de6d5a56448ac134d8c7c3a27498 \"\n",
    "secret = \"df28d4a475ebbaa1b10a0c9e14acf1d09f96e104\""
   ]
  },
  {
   "cell_type": "code",
   "execution_count": null,
   "metadata": {},
   "outputs": [],
   "source": [
    "def prepareParams(params, requestMethod):\n",
    "    params['apikey'] = apikey\n",
    "    params['time'] = int(time.time())\n",
    "    \n",
    "    random_num = randint(100000,999999)\n",
    "    sortedparams = collections.OrderedDict(sorted(params.items()))\n",
    "    \n",
    "    params['apiSig'] = str(random_num) + \\\n",
    "    hashlib.sha512(str(str(random_num) + \"/\" + requestMethod + \"?\" + urlencode(sortedparams)).encode()).hexdigest()\n",
    "    \n",
    "    return collections.OrderedDict(sorted(params.items()))"
   ]
  },
  {
   "cell_type": "code",
   "execution_count": null,
   "metadata": {},
   "outputs": [],
   "source": [
    "users = json.load(open(\"users.txt\",\"r\"))"
   ]
  },
  {
   "cell_type": "code",
   "execution_count": null,
   "metadata": {},
   "outputs": [],
   "source": [
    "submissionData = []\n",
    "count = 0\n",
    "for user in users['result']:\n",
    "    params = {}\n",
    "    params['handle'] = user['handle']\n",
    "    method = \"user.status\"\n",
    "    time.sleep(0.08)\n",
    "    resp = requests.get(base + method + \"?\", params=prepareParams(params,method))\n",
    "    submissionData.append((user['handle'],resp.json()['result']))\n",
    "    count = count + 1\n",
    "    if(count % 50 == 0):\n",
    "        print(count)\n",
    "    if(count % 100 == 0):\n",
    "        print(\"saved to pickle\")\n",
    "        pickle.dump(submissionData, open(\"submission.pkl\",\"wb\"), protocol = pickle.HIGHEST_PROTOCOL)"
   ]
  },
  {
   "cell_type": "code",
   "execution_count": 2,
   "metadata": {},
   "outputs": [],
   "source": [
    "f = pickle.load(open(\"submission.pkl\",\"rb\"))"
   ]
  },
  {
   "cell_type": "code",
   "execution_count": 3,
   "metadata": {},
   "outputs": [
    {
     "data": {
      "text/plain": [
       "14000"
      ]
     },
     "execution_count": 3,
     "metadata": {},
     "output_type": "execute_result"
    }
   ],
   "source": [
    "len(f)"
   ]
  }
 ],
 "metadata": {
  "kernelspec": {
   "display_name": "Environment (conda_tensorflow_p36)",
   "language": "python",
   "name": "conda_tensorflow_p36"
  },
  "language_info": {
   "codemirror_mode": {
    "name": "ipython",
    "version": 3
   },
   "file_extension": ".py",
   "mimetype": "text/x-python",
   "name": "python",
   "nbconvert_exporter": "python",
   "pygments_lexer": "ipython3",
   "version": "3.6.6"
  }
 },
 "nbformat": 4,
 "nbformat_minor": 2
}
