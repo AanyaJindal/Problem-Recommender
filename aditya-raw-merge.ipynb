{
 "cells": [
  {
   "cell_type": "code",
   "execution_count": 1,
   "metadata": {},
   "outputs": [],
   "source": [
    "import numpy as np\n",
    "import pickle\n",
    "import pandas as pd\n",
    "import json\n",
    "import os\n",
    "import copy"
   ]
  },
  {
   "cell_type": "code",
   "execution_count": 2,
   "metadata": {},
   "outputs": [],
   "source": [
    "users = json.load(open(\"users.txt\",\"r\"))"
   ]
  },
  {
   "cell_type": "code",
   "execution_count": null,
   "metadata": {},
   "outputs": [],
   "source": [
    "len(users['result'])"
   ]
  },
  {
   "cell_type": "code",
   "execution_count": 18,
   "metadata": {},
   "outputs": [
    {
     "ename": "TypeError",
     "evalue": "list indices must be integers or slices, not str",
     "output_type": "error",
     "traceback": [
      "\u001b[0;31m---------------------------------------------------------------------------\u001b[0m",
      "\u001b[0;31mTypeError\u001b[0m                                 Traceback (most recent call last)",
      "\u001b[0;32m<ipython-input-18-7fd4b6238370>\u001b[0m in \u001b[0;36m<module>\u001b[0;34m()\u001b[0m\n\u001b[0;32m----> 1\u001b[0;31m \u001b[0musers\u001b[0m \u001b[0;34m=\u001b[0m \u001b[0musers\u001b[0m\u001b[0;34m[\u001b[0m\u001b[0;34m'result'\u001b[0m\u001b[0;34m]\u001b[0m\u001b[0;34m\u001b[0m\u001b[0m\n\u001b[0m",
      "\u001b[0;31mTypeError\u001b[0m: list indices must be integers or slices, not str"
     ]
    }
   ],
   "source": [
    "users = users['result']"
   ]
  },
  {
   "cell_type": "code",
   "execution_count": 4,
   "metadata": {},
   "outputs": [],
   "source": [
    "import gc"
   ]
  },
  {
   "cell_type": "code",
   "execution_count": 5,
   "metadata": {},
   "outputs": [],
   "source": [
    "dellist = ['relativeTimeSeconds', '', 'id', 'testset', 'programmingLanguage']\n",
    "keeplist = ['id', 'creationTimeSeconds', 'verdict', 'passedTestCount']"
   ]
  },
  {
   "cell_type": "code",
   "execution_count": null,
   "metadata": {
    "scrolled": true
   },
   "outputs": [],
   "source": [
    "allData = []\n",
    "for m in range(23,24):\n",
    "    allData = []\n",
    "    f = open(\"submission\" + str(m) + \".pkl\",\"rb\")\n",
    "    allData = pickle.load(f)\n",
    "    f.close()\n",
    "    \n",
    "    for i in range(len(allData)):\n",
    "        for j in range(len(allData[i][1])):\n",
    "            temp = {}\n",
    "            for key in keeplist:\n",
    "                if(key in allData[i][1][j].keys()):\n",
    "                    temp[key] = allData[i][1][j][key]\n",
    "                \n",
    "            temp2 = {}\n",
    "            if('contestId' in allData[i][1][j]['problem'].keys()):\n",
    "                temp2['contestId'] = allData[i][1][j]['problem']['contestId']\n",
    "            if('index' in allData[i][1][j]['problem'].keys()):\n",
    "                temp2['index'] = allData[i][1][j]['problem']['index']\n",
    "            allData[i][1][j] = temp\n",
    "            allData[i][1][j]['problem'] = temp2\n",
    "    \n",
    "    f = open(\"cleaned\" + str(m) + \".pkl\",\"wb\")\n",
    "    pickle.dump(allData,f,protocol = pickle.HIGHEST_PROTOCOL)\n",
    "    f.close()\n",
    "    print(i)\n",
    "    print(len(allData))\n",
    "    os.remove(\"submission\" + str(m) + \".pkl\")\n",
    "    del allData"
   ]
  },
  {
   "cell_type": "code",
   "execution_count": null,
   "metadata": {},
   "outputs": [],
   "source": [
    "allData[0][1][0].keys()"
   ]
  },
  {
   "cell_type": "code",
   "execution_count": null,
   "metadata": {},
   "outputs": [],
   "source": [
    "for i in range(len(allData)):\n",
    "    for j in range(len(allData[i][1])):\n",
    "        for key in dellist:\n",
    "            allData[i][1][j].pop(key,None)"
   ]
  },
  {
   "cell_type": "code",
   "execution_count": null,
   "metadata": {},
   "outputs": [],
   "source": [
    "pickle.dump(allData,open(\"compiledData.pkl\",\"wb\"),protocol = pickle.HIGHEST_PROTOCOL)"
   ]
  },
  {
   "cell_type": "code",
   "execution_count": null,
   "metadata": {},
   "outputs": [],
   "source": [
    "os.remove(\"demofile.txt\")"
   ]
  },
  {
   "cell_type": "code",
   "execution_count": null,
   "metadata": {},
   "outputs": [],
   "source": [
    "for i in range(1,29):\n",
    "     os.remove(\"cleaned\" + str(i) + \".pkl\")"
   ]
  },
  {
   "cell_type": "code",
   "execution_count": 16,
   "metadata": {},
   "outputs": [],
   "source": [
    "from subprocess import call\n",
    "import subprocess"
   ]
  },
  {
   "cell_type": "code",
   "execution_count": null,
   "metadata": {},
   "outputs": [],
   "source": [
    "for i in range(1,30):\n",
    "    subprocess.run([\"/usr/local/bin/aws\", \"s3\",\"cp\",\"s3://randombulk-gupadity/submission\" + str(i*5000) + \".pkl\",\"submission\" + str(i) + \".pkl\"])"
   ]
  },
  {
   "cell_type": "code",
   "execution_count": null,
   "metadata": {},
   "outputs": [],
   "source": [
    "subprocess.run([\"/usr/local/bin/aws\", \"s3\",\"cp\",\"s3://randombulk-gupadity/14000.pkl\",\"submission0.pkl\"])"
   ]
  },
  {
   "cell_type": "code",
   "execution_count": 6,
   "metadata": {},
   "outputs": [],
   "source": [
    "allData = []\n",
    "for i in range(1,31):\n",
    "    f = open(\"cleaned\" + str(i) + \".pkl\",\"rb\")\n",
    "    allData += pickle.load(f)\n",
    "    f.close()"
   ]
  },
  {
   "cell_type": "code",
   "execution_count": null,
   "metadata": {},
   "outputs": [],
   "source": [
    "allData = []\n",
    "for i in range(23,24):\n",
    "    f = open(\"cleaned\" + str(i) + \".pkl\",\"rb\")\n",
    "    allData += pickle.load(f)\n",
    "    f.close()"
   ]
  },
  {
   "cell_type": "code",
   "execution_count": null,
   "metadata": {},
   "outputs": [],
   "source": [
    "allData = copy.copy(allData2)"
   ]
  },
  {
   "cell_type": "code",
   "execution_count": 7,
   "metadata": {},
   "outputs": [],
   "source": [
    "duped = []\n",
    "for i in range(1):\n",
    "    f = open(\"cleaned\" + str(i) + \".pkl\",\"rb\")\n",
    "    duped = pickle.load(f)\n",
    "    f.close()"
   ]
  },
  {
   "cell_type": "code",
   "execution_count": null,
   "metadata": {},
   "outputs": [],
   "source": [
    "duped[13999][0]"
   ]
  },
  {
   "cell_type": "code",
   "execution_count": null,
   "metadata": {},
   "outputs": [],
   "source": [
    "allData[101000][0]"
   ]
  },
  {
   "cell_type": "code",
   "execution_count": null,
   "metadata": {},
   "outputs": [],
   "source": [
    "users[115000]['handle']"
   ]
  },
  {
   "cell_type": "code",
   "execution_count": null,
   "metadata": {},
   "outputs": [],
   "source": [
    "users[30001]['handle']"
   ]
  },
  {
   "cell_type": "code",
   "execution_count": 8,
   "metadata": {},
   "outputs": [],
   "source": [
    "for i in range(16000,30000):\n",
    "    del allData[16000]"
   ]
  },
  {
   "cell_type": "code",
   "execution_count": 9,
   "metadata": {},
   "outputs": [
    {
     "name": "stdout",
     "output_type": "stream",
     "text": [
      "16000\n"
     ]
    }
   ],
   "source": [
    "for i in range(len(allData)):\n",
    "    if(allData[i][0] == \"Malfurion_Drake\"):\n",
    "        print(i)"
   ]
  },
  {
   "cell_type": "code",
   "execution_count": null,
   "metadata": {},
   "outputs": [],
   "source": [
    "for i in range(16,30):\n",
    "    print(i)"
   ]
  },
  {
   "cell_type": "code",
   "execution_count": 10,
   "metadata": {},
   "outputs": [],
   "source": [
    "finalData = duped + allData"
   ]
  },
  {
   "cell_type": "code",
   "execution_count": 11,
   "metadata": {},
   "outputs": [
    {
     "name": "stdout",
     "output_type": "stream",
     "text": [
      "0\n"
     ]
    }
   ],
   "source": [
    "mismatchcount = 0\n",
    "for i in range(len(users)):\n",
    "    if( finalData[i][0] != users[i]['handle']):\n",
    "        print(i,finalData[i][0],users[i]['handle'])\n",
    "        mismatchcount+=1\n",
    "\n",
    "print(mismatchcount)"
   ]
  },
  {
   "cell_type": "code",
   "execution_count": 12,
   "metadata": {},
   "outputs": [
    {
     "name": "stdout",
     "output_type": "stream",
     "text": [
      "120006\n"
     ]
    }
   ],
   "source": [
    "for i in range(len(users)):\n",
    "    if(users[i]['handle'] == \"gooooo\"):\n",
    "        print(i)"
   ]
  },
  {
   "cell_type": "code",
   "execution_count": null,
   "metadata": {},
   "outputs": [],
   "source": [
    "a = [i for i in range(10)]"
   ]
  },
  {
   "cell_type": "code",
   "execution_count": 13,
   "metadata": {},
   "outputs": [
    {
     "data": {
      "text/plain": [
       "146976"
      ]
     },
     "execution_count": 13,
     "metadata": {},
     "output_type": "execute_result"
    }
   ],
   "source": [
    "len(finalData)"
   ]
  },
  {
   "cell_type": "code",
   "execution_count": null,
   "metadata": {},
   "outputs": [],
   "source": [
    "finalData[110000:150000] = allData"
   ]
  },
  {
   "cell_type": "code",
   "execution_count": 14,
   "metadata": {},
   "outputs": [],
   "source": [
    "pickle.dump(finalData, open(\"final_data.pkl\",\"wb\"), protocol = pickle.HIGHEST_PROTOCOL)"
   ]
  },
  {
   "cell_type": "code",
   "execution_count": 17,
   "metadata": {},
   "outputs": [
    {
     "data": {
      "text/plain": [
       "CompletedProcess(args=['/usr/local/bin/aws', 's3', 'cp', 'final_data.pkl', 's3://randombulk-gupadity/final_data.pkl'], returncode=0)"
      ]
     },
     "execution_count": 17,
     "metadata": {},
     "output_type": "execute_result"
    }
   ],
   "source": [
    "subprocess.run([\"/usr/local/bin/aws\", \"s3\",\"cp\",\"final_data.pkl\",\"s3://randombulk-gupadity/final_data.pkl\"])"
   ]
  },
  {
   "cell_type": "code",
   "execution_count": null,
   "metadata": {},
   "outputs": [],
   "source": []
  }
 ],
 "metadata": {
  "kernelspec": {
   "display_name": "Environment (conda_tensorflow_p36)",
   "language": "python",
   "name": "conda_tensorflow_p36"
  },
  "language_info": {
   "codemirror_mode": {
    "name": "ipython",
    "version": 3
   },
   "file_extension": ".py",
   "mimetype": "text/x-python",
   "name": "python",
   "nbconvert_exporter": "python",
   "pygments_lexer": "ipython3",
   "version": "3.6.6"
  }
 },
 "nbformat": 4,
 "nbformat_minor": 2
}
