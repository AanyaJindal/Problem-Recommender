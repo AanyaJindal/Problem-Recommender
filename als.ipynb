{
 "cells": [
  {
   "cell_type": "code",
   "execution_count": 12,
   "metadata": {},
   "outputs": [],
   "source": [
    "import numpy as np\n",
    "from scipy import sparse as sp"
   ]
  },
  {
   "cell_type": "code",
   "execution_count": 13,
   "metadata": {},
   "outputs": [],
   "source": [
    "sparse_user_item = sp.load_npz('confi.npz')\n",
    "sparse_item_user = sp.load_npz('confi.npz')\n",
    "\n",
    "pref = sp.load_npz('pref.npz')"
   ]
  },
  {
   "cell_type": "code",
   "execution_count": 14,
   "metadata": {},
   "outputs": [],
   "source": [
    "users = 100\n",
    "questions = 4434"
   ]
  },
  {
   "cell_type": "code",
   "execution_count": 15,
   "metadata": {},
   "outputs": [],
   "source": [
    "sparse_item_user = sparse_item_user.tocsr()\n",
    "sparse_user_item = sparse_user_item.tocsr()\n",
    "sparse_item_user = sparse_item_user.astype('double')\n",
    "sparse_user_item = sparse_user_item.astype('float')"
   ]
  },
  {
   "cell_type": "code",
   "execution_count": 16,
   "metadata": {},
   "outputs": [],
   "source": [
    "sparse_item_user = sparse_item_user.transpose()"
   ]
  },
  {
   "cell_type": "code",
   "execution_count": 17,
   "metadata": {},
   "outputs": [],
   "source": [
    "from scipy.sparse.linalg import spsolve\n",
    "import random\n",
    "\n",
    "from sklearn.preprocessing import MinMaxScaler\n",
    "\n",
    "import implicit # The Cython library"
   ]
  },
  {
   "cell_type": "code",
   "execution_count": 18,
   "metadata": {},
   "outputs": [
    {
     "name": "stderr",
     "output_type": "stream",
     "text": [
      "WARNING:implicit:GPU training requires factor size to be a multiple of 32. Increasing factors from 20 to 32.\n"
     ]
    }
   ],
   "source": [
    "model = implicit.als.AlternatingLeastSquares(factors=20, regularization=0.1, iterations=20)"
   ]
  },
  {
   "cell_type": "code",
   "execution_count": 20,
   "metadata": {},
   "outputs": [
    {
     "name": "stderr",
     "output_type": "stream",
     "text": [
      "100%|██████████| 20.0/20 [00:37<00:00,  2.04s/it]\n"
     ]
    }
   ],
   "source": [
    "model.fit(sparse_item_user)"
   ]
  },
  {
   "cell_type": "code",
   "execution_count": 47,
   "metadata": {},
   "outputs": [],
   "source": [
    "rec = model.recommend(10000,sparse_user_item)"
   ]
  },
  {
   "cell_type": "code",
   "execution_count": 22,
   "metadata": {},
   "outputs": [],
   "source": [
    "import pickle\n"
   ]
  },
  {
   "cell_type": "code",
   "execution_count": 29,
   "metadata": {},
   "outputs": [],
   "source": [
    "mappings = pickle.load(open('problem_mappings.pkl','rb'))\n"
   ]
  },
  {
   "cell_type": "code",
   "execution_count": 31,
   "metadata": {},
   "outputs": [],
   "source": [
    "name = pickle.load(open('problem_name.pkl','rb'))"
   ]
  },
  {
   "cell_type": "code",
   "execution_count": 34,
   "metadata": {},
   "outputs": [
    {
     "data": {
      "text/plain": [
       "'379A'"
      ]
     },
     "execution_count": 34,
     "metadata": {},
     "output_type": "execute_result"
    }
   ],
   "source": [
    "name[1667]"
   ]
  },
  {
   "cell_type": "code",
   "execution_count": 42,
   "metadata": {},
   "outputs": [],
   "source": [
    "import json\n",
    "problems = json.load(open('problems.txt', 'r'))\n",
    "problems = problems['result']['problems']"
   ]
  },
  {
   "cell_type": "code",
   "execution_count": 50,
   "metadata": {},
   "outputs": [
    {
     "name": "stdout",
     "output_type": "stream",
     "text": [
      "{'contestId': 645, 'index': 'B', 'name': 'Mischievous Mess Makers', 'type': 'PROGRAMMING', 'points': 1000.0, 'tags': ['greedy', 'math']}\n",
      "{'contestId': 623, 'index': 'A', 'name': 'Graph and String', 'type': 'PROGRAMMING', 'points': 500.0, 'tags': ['constructive algorithms', 'graphs']}\n",
      "{'contestId': 656, 'index': 'A', 'name': 'Da Vinci Powers', 'type': 'PROGRAMMING', 'tags': ['*special']}\n",
      "{'contestId': 643, 'index': 'E', 'name': 'Bear and Destroying Subtrees', 'type': 'PROGRAMMING', 'points': 2250.0, 'tags': ['dp', 'math', 'probabilities', 'trees']}\n",
      "{'contestId': 644, 'index': 'C', 'name': 'Hostname Aliases', 'type': 'PROGRAMMING', 'points': 1500.0, 'tags': ['binary search', 'data structures', 'sortings', 'strings']}\n",
      "{'contestId': 625, 'index': 'B', 'name': 'War of the Corporations', 'type': 'PROGRAMMING', 'points': 750.0, 'tags': ['constructive algorithms', 'strings']}\n",
      "{'contestId': 659, 'index': 'G', 'name': 'Fence Divercity', 'type': 'PROGRAMMING', 'points': 2500.0, 'tags': ['combinatorics', 'dp']}\n",
      "{'contestId': 615, 'index': 'A', 'name': 'Bulbs', 'type': 'PROGRAMMING', 'points': 500.0, 'tags': ['implementation']}\n",
      "{'contestId': 650, 'index': 'B', 'name': 'Image Preview', 'type': 'PROGRAMMING', 'points': 1000.0, 'tags': ['binary search', 'dp', 'two pointers']}\n",
      "{'contestId': 661, 'index': 'B', 'name': 'Seasons', 'type': 'PROGRAMMING', 'tags': ['*special']}\n"
     ]
    }
   ],
   "source": [
    "for x in rec:\n",
    "    print(problems[x[0]])"
   ]
  },
  {
   "cell_type": "code",
   "execution_count": 60,
   "metadata": {
    "scrolled": true
   },
   "outputs": [
    {
     "data": {
      "text/plain": [
       "{'contestId': 513,\n",
       " 'index': 'G3',\n",
       " 'name': 'Inversions problem',\n",
       " 'type': 'PROGRAMMING',\n",
       " 'points': 16.0,\n",
       " 'tags': ['dp']}"
      ]
     },
     "execution_count": 60,
     "metadata": {},
     "output_type": "execute_result"
    }
   ],
   "source": [
    "problems[2229]"
   ]
  },
  {
   "cell_type": "code",
   "execution_count": 61,
   "metadata": {},
   "outputs": [],
   "source": [
    "similar = model.similar_items(2229,3)"
   ]
  },
  {
   "cell_type": "code",
   "execution_count": 62,
   "metadata": {},
   "outputs": [
    {
     "name": "stdout",
     "output_type": "stream",
     "text": [
      "{'contestId': 513, 'index': 'G3', 'name': 'Inversions problem', 'type': 'PROGRAMMING', 'points': 16.0, 'tags': ['dp']}\n",
      "{'contestId': 507, 'index': 'C', 'name': 'Guess Your Way Out!', 'type': 'PROGRAMMING', 'points': 1500.0, 'tags': ['implementation', 'math']}\n",
      "{'contestId': 518, 'index': 'E', 'name': 'Arthur and Questions', 'type': 'PROGRAMMING', 'points': 2500.0, 'tags': ['greedy', 'implementation', 'ternary search']}\n"
     ]
    }
   ],
   "source": [
    "for x in similar:\n",
    "    print(problems[x[0]])"
   ]
  },
  {
   "cell_type": "code",
   "execution_count": null,
   "metadata": {},
   "outputs": [],
   "source": []
  }
 ],
 "metadata": {
  "kernelspec": {
   "display_name": "Environment (conda_tensorflow_p36)",
   "language": "python",
   "name": "conda_tensorflow_p36"
  },
  "language_info": {
   "codemirror_mode": {
    "name": "ipython",
    "version": 3
   },
   "file_extension": ".py",
   "mimetype": "text/x-python",
   "name": "python",
   "nbconvert_exporter": "python",
   "pygments_lexer": "ipython3",
   "version": "3.6.5"
  }
 },
 "nbformat": 4,
 "nbformat_minor": 2
}
